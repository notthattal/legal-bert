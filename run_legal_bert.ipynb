{
 "cells": [
  {
   "cell_type": "markdown",
   "metadata": {},
   "source": [
    "### Legal Bert Training Notebook\n",
    "\n",
    "#### Colab Notebook:\n",
    "[![Open In Collab](https://colab.research.google.com/assets/colab-badge.svg)]()"
   ]
  },
  {
   "cell_type": "code",
   "execution_count": null,
   "metadata": {},
   "outputs": [],
   "source": [
    "import os\n",
    "\n",
    "# Remove Colab default sample_data if it exists\n",
    "if os.path.exists(\"./sample_data\"):\n",
    "    !rm -r ./sample_data\n",
    "\n",
    "# Clone GitHub files to colab workspace\n",
    "repo_name = \"legal-bert\"\n",
    "\n",
    "# Check if the repo already exists\n",
    "if not os.path.exists(\"/content/\" + repo_name):\n",
    "    git_path = 'https://github.com/notthattal/legal-bert.git'\n",
    "    !git clone \"{git_path}\"\n",
    "else:\n",
    "    print(f\"{repo_name} already exists.\")\n",
    "\n",
    "# Change working directory to location of notebook\n",
    "path_to_notebook = os.path.join(\"/content/\" + repo_name)\n",
    "%cd \"{path_to_notebook}\"\n",
    "\n",
    "!pip install -r requirements.txt\n",
    "\n",
    "from legal_bert import main\n"
   ]
  },
  {
   "cell_type": "markdown",
   "metadata": {},
   "source": [
    "### Train Legal Bert\n",
    "\n",
    "*Note: Don't Forget to upload the data*"
   ]
  },
  {
   "cell_type": "code",
   "execution_count": null,
   "metadata": {},
   "outputs": [],
   "source": [
    "main(run_evaluation=True)"
   ]
  }
 ],
 "metadata": {
  "kernelspec": {
   "display_name": "venv",
   "language": "python",
   "name": "python3"
  },
  "language_info": {
   "name": "python",
   "version": "3.9.6"
  }
 },
 "nbformat": 4,
 "nbformat_minor": 2
}
